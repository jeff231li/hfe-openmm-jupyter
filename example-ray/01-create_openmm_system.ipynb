{
 "cells": [
  {
   "cell_type": "markdown",
   "id": "b23a1c3c",
   "metadata": {},
   "source": [
    "This notebook is to create OpenMM systems to run hydration free energy (HFE) calculations using GAFF, SMIRNOFF and your choice of water models.\n",
    "\n",
    "Dependencies:\n",
    "- openmm\n",
    "- openff-toolkit\n",
    "- openmmforcefields "
   ]
  },
  {
   "cell_type": "code",
   "execution_count": null,
   "id": "14d8887a",
   "metadata": {},
   "outputs": [],
   "source": [
    "from openff.toolkit.topology import Molecule as Molecule\n",
    "from openff.toolkit.topology import Topology as Topology\n",
    "from openff.toolkit.typing.engines.smirnoff import ForceField\n",
    "\n",
    "from simtk import openmm\n",
    "from simtk.openmm.app import PME, NoCutoff, HBonds, PDBFile\n",
    "from simtk.unit import *\n",
    "from openmmforcefields.generators import (\n",
    "    GAFFTemplateGenerator,\n",
    "    SMIRNOFFTemplateGenerator,\n",
    ")"
   ]
  },
  {
   "cell_type": "markdown",
   "id": "5af8d816",
   "metadata": {},
   "source": [
    "### System information"
   ]
  },
  {
   "cell_type": "code",
   "execution_count": null,
   "id": "78ab3a8b",
   "metadata": {},
   "outputs": [],
   "source": [
    "system_name = \"molecule\"\n",
    "system_smiles = \"CCO\"\n",
    "forcefield_name = \"SAGE\"\n",
    "temperature = 298 * kelvin\n",
    "\n",
    "system_ff_filename = f\"{system_name}_forcefield_{forcefield_name}.xml\"\n",
    "system_pdb_filename = f\"{system_name}.vac.pdb\"\n",
    "solvated_system_pdb_filename = f\"{system_name}.sol.pdb\"\n",
    "saved_vacumm_system_file_name = (\n",
    "    f\"{system_name}_vac_system_{forcefield_name.lower()}.xml\"\n",
    ")\n",
    "saved_solvated_system_file_name = (\n",
    "    f\"{system_name}_sol_system_{forcefield_name.lower()}.xml\"\n",
    ")"
   ]
  },
  {
   "cell_type": "markdown",
   "id": "8c57cee8",
   "metadata": {},
   "source": [
    "### Create system \n",
    "Here we create a system from a SMILES string"
   ]
  },
  {
   "cell_type": "code",
   "execution_count": null,
   "id": "f2ae4063",
   "metadata": {},
   "outputs": [],
   "source": [
    "off_mol = Molecule.from_smiles(\"CCO\")\n",
    "off_mol.generate_conformers(n_conformers=1)\n",
    "off_mol.compute_partial_charges_am1bcc()\n",
    "off_topology = Topology.from_molecules(off_mol)\n",
    "\n",
    "omm_vac_topology = off_topology.to_openmm()\n",
    "omm_vac_position = off_mol.conformers[0]"
   ]
  },
  {
   "cell_type": "markdown",
   "id": "e184183c",
   "metadata": {},
   "source": [
    "### Create Openmm system"
   ]
  },
  {
   "cell_type": "code",
   "execution_count": null,
   "id": "20f7ddbc",
   "metadata": {},
   "outputs": [],
   "source": [
    "forcefield = openmm.app.ForceField(\"tip3p.xml\")\n",
    "\n",
    "if forcefield_name.upper() == \"GAFF\":\n",
    "    template = GAFFTemplateGenerator(molecules=[off_mol])\n",
    "elif forcefield_name.upper() == \"SAGE\":\n",
    "    template = SMIRNOFFTemplateGenerator(\n",
    "        forcefield=\"openff-2.0.0.offxml\", molecules=[off_mol]\n",
    "    )\n",
    "\n",
    "else:\n",
    "    print(\"Unknow force field, cannot preceed.\")\n",
    "\n",
    "print(\"Using force field:\", forcefield_name)\n",
    "forcefield.registerTemplateGenerator(template.generator)"
   ]
  },
  {
   "cell_type": "code",
   "execution_count": null,
   "id": "e3848b21",
   "metadata": {},
   "outputs": [],
   "source": [
    "modeller = openmm.app.Modeller(omm_vac_topology, omm_vac_position)\n",
    "\n",
    "modeller.addSolvent(\n",
    "    forcefield,\n",
    "    model=\"tip3p\",\n",
    "    padding=12.0 * angstrom,\n",
    ")\n",
    "\n",
    "omm_sol_topology = modeller.getTopology()\n",
    "omm_sol_positions = modeller.getPositions()\n",
    "\n",
    "omm_vac_system = forcefield.createSystem(\n",
    "    omm_vac_topology,\n",
    "    nonbondedMethod=NoCutoff,\n",
    "    constraints=HBonds,\n",
    ")\n",
    "\n",
    "\n",
    "omm_sol_system = forcefield.createSystem(\n",
    "    omm_sol_topology,\n",
    "    nonbondedMethod=PME,\n",
    "    nonbondedCutoff=9.0 * angstrom,\n",
    "    rigidWater=True,\n",
    "    constraints=HBonds,\n",
    ")\n",
    "omm_sol_system.addForce(openmm.MonteCarloBarostat(1 * atmosphere, temperature, 100))"
   ]
  },
  {
   "cell_type": "markdown",
   "id": "75fbeb67",
   "metadata": {},
   "source": [
    "### Save the system to xml files"
   ]
  },
  {
   "cell_type": "code",
   "execution_count": null,
   "id": "df6fd2d4",
   "metadata": {},
   "outputs": [],
   "source": [
    "with open(saved_vacumm_system_file_name, \"w\") as f1:\n",
    "    f1.write(openmm.XmlSerializer.serialize(omm_vac_system))\n",
    "\n",
    "with open(saved_solvated_system_file_name, \"w\") as f2:\n",
    "    f2.write(openmm.XmlSerializer.serialize(omm_sol_system))"
   ]
  },
  {
   "cell_type": "markdown",
   "id": "a8da8701",
   "metadata": {},
   "source": [
    "### Save systems to PDB files"
   ]
  },
  {
   "cell_type": "code",
   "execution_count": null,
   "id": "df1bf1e3",
   "metadata": {},
   "outputs": [],
   "source": [
    "with open(solvated_system_pdb_filename, \"w\") as f1:\n",
    "    PDBFile.writeFile(omm_sol_topology, omm_sol_positions, f1)\n",
    "\n",
    "with open(system_pdb_filename, \"w\") as f2:\n",
    "    PDBFile.writeFile(omm_vac_topology, omm_vac_position, f2)"
   ]
  }
 ],
 "metadata": {
  "kernelspec": {
   "display_name": "Python 3",
   "language": "python",
   "name": "python3"
  },
  "language_info": {
   "codemirror_mode": {
    "name": "ipython",
    "version": 3
   },
   "file_extension": ".py",
   "mimetype": "text/x-python",
   "name": "python",
   "nbconvert_exporter": "python",
   "pygments_lexer": "ipython3",
   "version": "3.7.4"
  }
 },
 "nbformat": 4,
 "nbformat_minor": 5
}
