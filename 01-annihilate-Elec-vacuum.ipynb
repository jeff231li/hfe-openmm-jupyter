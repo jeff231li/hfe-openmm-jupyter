{
 "cells": [
  {
   "cell_type": "code",
   "execution_count": 1,
   "id": "c8347bf7",
   "metadata": {},
   "outputs": [],
   "source": [
    "import os\n",
    "import numpy as np\n",
    "import matplotlib.pyplot as plt\n",
    "\n",
    "from pymbar import MBAR, timeseries\n",
    "\n",
    "import simtk.unit as simtk_unit\n",
    "from simtk.openmm.app import (\n",
    "    AmberPrmtopFile,\n",
    "    AmberInpcrdFile,\n",
    "    Simulation,\n",
    "    HBonds,\n",
    "    NoCutoff,\n",
    "    DCDReporter,\n",
    "    StateDataReporter,\n",
    "    PDBFile,\n",
    ")\n",
    "from simtk.openmm import (\n",
    "    XmlSerializer,\n",
    "    LangevinIntegrator,\n",
    "    MonteCarloBarostat,\n",
    "    CustomNonbondedForce,\n",
    "    CustomBondForce,\n",
    "    NonbondedForce,\n",
    "    Platform,\n",
    ")"
   ]
  },
  {
   "cell_type": "markdown",
   "id": "b41cb42c",
   "metadata": {},
   "source": [
    "### Functions to add `lambda_electrostatics`"
   ]
  },
  {
   "cell_type": "code",
   "execution_count": 2,
   "id": "e58dab1e",
   "metadata": {},
   "outputs": [],
   "source": [
    "def add_lambda_elec(system, molecule, lambda_value=1.0):\n",
    "    \"\"\"\n",
    "    * Adds lambda scaling to both inter- and intramolecular electrostatic\n",
    "      interactions in `NonbondedForce` for the molecule.\n",
    "\n",
    "    Parameters\n",
    "    ----------\n",
    "    system: openmm.System\n",
    "        The OpenMM system containing the nonbonded force.\n",
    "    molecule: list\n",
    "        A list atom indices (starts from 0) for the molecule of interest.\n",
    "    lambda_value: float\n",
    "        The starting lambda value for the Elec scaling.\n",
    "    \"\"\"\n",
    "    nonbonded = [\n",
    "        force for force in system.getForces() if isinstance(force, NonbondedForce)\n",
    "    ][0]\n",
    "\n",
    "    nonbonded.addGlobalParameter(\"lambda_electrostatics\", lambda_value)\n",
    "\n",
    "    for atom_i in molecule:\n",
    "        charge, sigma, epsilon = nonbonded.getParticleParameters(atom_i)\n",
    "        nonbonded.addParticleParameterOffset(\n",
    "            \"lambda_electrostatics\", atom_i, charge, 0.0, 0.0\n",
    "        )\n",
    "\n",
    "    for exception_i in range(nonbonded.getNumExceptions()):\n",
    "        atom_i, atom_j, charge, sigma, epsilon = nonbonded.getExceptionParameters(\n",
    "            exception_i\n",
    "        )\n",
    "        if atom_i in molecule and atom_j in molecule:\n",
    "            nonbonded.addExceptionParameterOffset(\n",
    "                \"lambda_electrostatics\", exception_i, charge, 0.0, 0.0\n",
    "            )"
   ]
  },
  {
   "cell_type": "code",
   "execution_count": 3,
   "id": "d0d682e3",
   "metadata": {},
   "outputs": [],
   "source": [
    "def create_custom_LJ(system, molecule, force_group=5):\n",
    "    \"\"\"\n",
    "    * move the Intramolecular LJ to `CustomBondForce`\n",
    "\n",
    "    Parameters\n",
    "    ----------\n",
    "    system: openmm.System\n",
    "        The OpenMM system containing the nonbonded force.\n",
    "    molecule: list\n",
    "        A list of atom indices (starts from 0) for the molecule of interest.\n",
    "    force_group: int\n",
    "        Force group number for the intermolecular LJ\n",
    "    \"\"\"\n",
    "    nonbonded = [\n",
    "        force for force in system.getForces() if isinstance(force, NonbondedForce)\n",
    "    ][0]\n",
    "\n",
    "    # Intramolecular LJ\n",
    "    intramol_LJ = CustomBondForce(\"4*epsilon*((sigma/r)^12 - (sigma/r)^6);\")\n",
    "    intramol_LJ.addPerBondParameter(\"sigma\")\n",
    "    intramol_LJ.addPerBondParameter(\"epsilon\")\n",
    "    intramol_LJ.setForceGroup(force_group)\n",
    "\n",
    "    for exception_i in range(nonbonded.getNumExceptions()):\n",
    "        atom_i, atom_j, charge, sigma, epsilon = nonbonded.getExceptionParameters(\n",
    "            exception_i\n",
    "        )\n",
    "        if atom_i in molecule and atom_j in molecule:\n",
    "            intramol_LJ.addBond(atom_i, atom_j, [sigma, epsilon])\n",
    "\n",
    "    system.addForce(intramol_LJ)"
   ]
  },
  {
   "cell_type": "code",
   "execution_count": 4,
   "id": "67fb56e1",
   "metadata": {},
   "outputs": [],
   "source": [
    "def turn_off_nonbonded(system, molecule):\n",
    "    \"\"\"\n",
    "    * Turn off the LJ parameters in `NonbondedForce` for the molecule\n",
    "    \n",
    "    Parameters\n",
    "    ----------\n",
    "    system: openmm.System\n",
    "        The OpenMM system containing the nonbonded force.\n",
    "    molecule: list\n",
    "        A list of atom indices (starts from 0) for the molecule of interest.\n",
    "    \"\"\"\n",
    "    nonbonded = [force for force in system.getForces() if isinstance(force, NonbondedForce)][0]\n",
    "    \n",
    "    # Turn off Elec and LJ parameters\n",
    "    for atom_i in molecule:\n",
    "        charge, sigma, epsilon = nonbonded.getParticleParameters(atom_i)\n",
    "        nonbonded.setParticleParameters(atom_i, 0.0, sigma, 0.0)\n",
    "        \n",
    "    # Turn off Elec and LJ Exceptions\n",
    "    for exception_i in range(nonbonded.getNumExceptions()):\n",
    "        atom_i, atom_j, charge, sigma, epsilon = nonbonded.getExceptionParameters(exception_i)\n",
    "        if atom_i in molecule and atom_j in molecule:\n",
    "            nonbonded.setExceptionParameters(exception_i, atom_i, atom_j, 0.0, sigma, 0.0)"
   ]
  },
  {
   "cell_type": "markdown",
   "id": "b84f3141",
   "metadata": {},
   "source": [
    "# Initial Setup"
   ]
  },
  {
   "cell_type": "code",
   "execution_count": 5,
   "id": "2386fadc",
   "metadata": {},
   "outputs": [],
   "source": [
    "build_folder = \"build_files\"\n",
    "work_folder = \"elec-vac\"\n",
    "os.makedirs(work_folder, exist_ok=True)"
   ]
  },
  {
   "cell_type": "code",
   "execution_count": 6,
   "id": "32f199c4",
   "metadata": {},
   "outputs": [],
   "source": [
    "platform = Platform.getPlatformByName(\"CPU\")\n",
    "#platform.setPropertyDefaultValue(\"DeviceIndex\", \"0\")\n",
    "#platform.setPropertyDefaultValue(\"Precision\", \"mixed\")"
   ]
  },
  {
   "cell_type": "code",
   "execution_count": 7,
   "id": "cc04039f",
   "metadata": {},
   "outputs": [],
   "source": [
    "prmtop = AmberPrmtopFile(f\"{build_folder}/ethanol_vacuum.prmtop\")\n",
    "inpcrd = AmberInpcrdFile(f\"{build_folder}/ethanol_vacuum.rst7\")"
   ]
  },
  {
   "cell_type": "code",
   "execution_count": 8,
   "id": "58f537de",
   "metadata": {},
   "outputs": [],
   "source": [
    "ethanol = [atom.index for atom in prmtop.topology.atoms() if atom.residue.name == \"MOL\"]"
   ]
  },
  {
   "cell_type": "code",
   "execution_count": 9,
   "id": "88efc5fb",
   "metadata": {},
   "outputs": [],
   "source": [
    "system = prmtop.createSystem(\n",
    "    nonbondedMethod=NoCutoff,\n",
    "    constraints=HBonds,\n",
    ")"
   ]
  },
  {
   "cell_type": "code",
   "execution_count": 10,
   "id": "160cdf96",
   "metadata": {},
   "outputs": [],
   "source": [
    "temperature = 298.15 * simtk_unit.kelvin\n",
    "friction = 1.0 / simtk_unit.picosecond\n",
    "timestep = 2.0 * simtk_unit.femtosecond\n",
    "kT = temperature * simtk_unit.BOLTZMANN_CONSTANT_kB * simtk_unit.AVOGADRO_CONSTANT_NA"
   ]
  },
  {
   "cell_type": "code",
   "execution_count": 11,
   "id": "76d2879d",
   "metadata": {},
   "outputs": [],
   "source": [
    "add_lambda_elec(system, ethanol, lambda_value=1.0)\n",
    "create_custom_LJ(system, ethanol)\n",
    "turn_off_nonbonded(system, ethanol)"
   ]
  },
  {
   "cell_type": "code",
   "execution_count": 12,
   "id": "e1f5d122",
   "metadata": {},
   "outputs": [],
   "source": [
    "with open(f\"{work_folder}/system.xml\", \"w\") as f:\n",
    "    f.write(XmlSerializer.serialize(system))"
   ]
  },
  {
   "cell_type": "markdown",
   "id": "9aeff92c",
   "metadata": {},
   "source": [
    "# MD Simulation"
   ]
  },
  {
   "cell_type": "code",
   "execution_count": 13,
   "id": "649101a8",
   "metadata": {},
   "outputs": [],
   "source": [
    "integrator = LangevinIntegrator(temperature, friction, timestep)\n",
    "\n",
    "simulation = Simulation(\n",
    "    prmtop.topology,\n",
    "    system,\n",
    "    integrator,\n",
    "    platform,\n",
    ")\n",
    "simulation.context.setPositions(inpcrd.positions)"
   ]
  },
  {
   "cell_type": "markdown",
   "id": "92dd5c4f",
   "metadata": {},
   "source": [
    "## 01. Minimization"
   ]
  },
  {
   "cell_type": "code",
   "execution_count": 14,
   "id": "892b85e2",
   "metadata": {},
   "outputs": [],
   "source": [
    "simulation.minimizeEnergy(\n",
    "    tolerance=1.0 * simtk_unit.kilojoules_per_mole, maxIterations=5000\n",
    ")"
   ]
  },
  {
   "cell_type": "markdown",
   "id": "66834eaf",
   "metadata": {},
   "source": [
    "## 02. Equilibration"
   ]
  },
  {
   "cell_type": "code",
   "execution_count": 15,
   "id": "7ce2f524",
   "metadata": {},
   "outputs": [],
   "source": [
    "output_freq = 5000\n",
    "equil_steps = 5000"
   ]
  },
  {
   "cell_type": "code",
   "execution_count": 16,
   "id": "4bd9c6f9",
   "metadata": {},
   "outputs": [],
   "source": [
    "dcd_reporter = DCDReporter(f\"{work_folder}/equilibration.dcd\", output_freq)\n",
    "state_reporter = StateDataReporter(\n",
    "    f\"{work_folder}/equilibration.log\",\n",
    "    output_freq,\n",
    "    step=True,\n",
    "    kineticEnergy=True,\n",
    "    potentialEnergy=True,\n",
    "    totalEnergy=True,\n",
    "    temperature=True,\n",
    "    volume=True,\n",
    "    speed=True,\n",
    "    separator=\",\",\n",
    ")\n",
    "simulation.reporters.append(dcd_reporter)\n",
    "simulation.reporters.append(state_reporter)"
   ]
  },
  {
   "cell_type": "code",
   "execution_count": 17,
   "id": "2ced4d96",
   "metadata": {},
   "outputs": [],
   "source": [
    "simulation.step(equil_steps)"
   ]
  },
  {
   "cell_type": "code",
   "execution_count": 18,
   "id": "41d1e692",
   "metadata": {},
   "outputs": [],
   "source": [
    "simulation.saveState(f\"{work_folder}/equilibration.xml\")\n",
    "with open(f\"{work_folder}/equilibration.pdb\", \"w\") as f:\n",
    "    PDBFile.writeModel(\n",
    "        prmtop.topology,\n",
    "        simulation.context.getState(getPositions=True).getPositions(),\n",
    "        f,\n",
    "    )"
   ]
  },
  {
   "cell_type": "markdown",
   "id": "7e0568f7",
   "metadata": {},
   "source": [
    "## 03. Alchemical Run"
   ]
  },
  {
   "cell_type": "code",
   "execution_count": 19,
   "id": "d2283f08",
   "metadata": {},
   "outputs": [],
   "source": [
    "lambda_values = [0.0, 0.1, 0.2, 0.3, 0.4, 0.5, 0.6, 0.7, 0.8, 0.9, 1.0]\n",
    "n_lambda = len(lambda_values)\n",
    "\n",
    "output_freq = 500\n",
    "equil_steps = 5000\n",
    "prod_steps = 50000\n",
    "\n",
    "total_iterations = int(prod_steps/output_freq)\n",
    "\n",
    "u_kln = np.zeros((n_lambda, n_lambda, total_iterations))"
   ]
  },
  {
   "cell_type": "code",
   "execution_count": 20,
   "id": "83fc039f",
   "metadata": {},
   "outputs": [],
   "source": [
    "integrator = LangevinIntegrator(temperature, friction, timestep)\n",
    "\n",
    "simulation = Simulation(\n",
    "    prmtop.topology,\n",
    "    system,\n",
    "    integrator,\n",
    "    platform,\n",
    ")\n",
    "simulation.loadState(f\"{work_folder}/equilibration.xml\")"
   ]
  },
  {
   "cell_type": "code",
   "execution_count": 21,
   "id": "9a27db18",
   "metadata": {},
   "outputs": [
    {
     "name": "stdout",
     "output_type": "stream",
     "text": [
      "Running simulation for lambda: 0.0 ...\n",
      "Running simulation for lambda: 0.1 ...\n",
      "Running simulation for lambda: 0.2 ...\n",
      "Running simulation for lambda: 0.3 ...\n",
      "Running simulation for lambda: 0.4 ...\n",
      "Running simulation for lambda: 0.5 ...\n",
      "Running simulation for lambda: 0.6 ...\n",
      "Running simulation for lambda: 0.7 ...\n",
      "Running simulation for lambda: 0.8 ...\n",
      "Running simulation for lambda: 0.9 ...\n",
      "Running simulation for lambda: 1.0 ...\n"
     ]
    }
   ],
   "source": [
    "for k, lb1 in enumerate(lambda_values):\n",
    "    print(f\"Running simulation for lambda: {lb1} ...\")\n",
    "    \n",
    "    simulation.context.setParameter(\"lambda_electrostatics\", lb1)\n",
    "    \n",
    "    # Short equilibration\n",
    "    simulation.step(equil_steps)\n",
    "    \n",
    "    # Add reporters\n",
    "    dcd_reporter = DCDReporter(f\"{work_folder}/production-{k}.dcd\", output_freq)\n",
    "    state_reporter = StateDataReporter(\n",
    "        f\"{work_folder}/production-{k}.log\",\n",
    "        output_freq,\n",
    "        step=True,\n",
    "        kineticEnergy=True,\n",
    "        potentialEnergy=True,\n",
    "        totalEnergy=True,\n",
    "        temperature=True,\n",
    "        volume=True,\n",
    "        speed=True,\n",
    "        separator=\",\",\n",
    "    )\n",
    "    simulation.reporters.append(dcd_reporter)\n",
    "    simulation.reporters.append(state_reporter)\n",
    "    \n",
    "    # Run production\n",
    "    for n in range(total_iterations):\n",
    "        simulation.context.setParameter(\"lambda_electrostatics\", lb1)\n",
    "        simulation.step(output_freq)\n",
    "        \n",
    "        for l, lb2 in enumerate(lambda_values):\n",
    "            simulation.context.setParameter(\"lambda_electrostatics\", lb2)\n",
    "            u_kln[k,l,n] = simulation.context.getState(getEnergy=True).getPotentialEnergy() / kT\n",
    "    \n",
    "    simulation.saveState(f\"{work_folder}/production-{k}.xml\")\n",
    "    \n",
    "    simulation.reporters.pop(-1)\n",
    "    simulation.reporters.pop(-1)"
   ]
  },
  {
   "cell_type": "code",
   "execution_count": 22,
   "id": "97172608",
   "metadata": {},
   "outputs": [],
   "source": [
    "np.save(f\"{work_folder}/reduced_elec_bulk_potential.npy\", u_kln)"
   ]
  },
  {
   "cell_type": "markdown",
   "id": "b44fce49",
   "metadata": {},
   "source": [
    "# Analysis"
   ]
  },
  {
   "cell_type": "code",
   "execution_count": 23,
   "id": "f2969768",
   "metadata": {},
   "outputs": [],
   "source": [
    "# Subsample data to extract uncorrelated equilibrium timeseries\n",
    "N_k = np.zeros([n_lambda], np.int32)\n",
    "\n",
    "for k in range(n_lambda):\n",
    "    [nequil, g, Neff_max] = timeseries.detectEquilibration(u_kln[k,k,:])\n",
    "    indices = timeseries.subsampleCorrelatedData(u_kln[k,k,:], g=g)\n",
    "    N_k[k] = len(indices)\n",
    "    u_kln[k,:,0:N_k[k]] = u_kln[k,:,indices].T"
   ]
  },
  {
   "cell_type": "code",
   "execution_count": 24,
   "id": "210cf203",
   "metadata": {},
   "outputs": [],
   "source": [
    "mbar = MBAR(u_kln, N_k)\n",
    "[DeltaF_ij, dDeltaF_ij, Theta_ij] = mbar.getFreeEnergyDifferences(return_theta=True)\n",
    "ODeltaF_ij = mbar.computeOverlap()['matrix']"
   ]
  },
  {
   "cell_type": "code",
   "execution_count": 25,
   "id": "d6c9dcf1",
   "metadata": {},
   "outputs": [
    {
     "name": "stdout",
     "output_type": "stream",
     "text": [
      "0.0 = 0.00 +- 0.00 kcal/mol\n",
      "0.1 = -0.69 +- 0.00 kcal/mol\n",
      "0.2 = -1.29 +- 0.01 kcal/mol\n",
      "0.3 = -1.80 +- 0.01 kcal/mol\n",
      "0.4 = -2.20 +- 0.01 kcal/mol\n",
      "0.5 = -2.49 +- 0.01 kcal/mol\n",
      "0.6 = -2.68 +- 0.01 kcal/mol\n",
      "0.7 = -2.76 +- 0.01 kcal/mol\n",
      "0.8 = -2.73 +- 0.01 kcal/mol\n",
      "0.9 = -2.59 +- 0.01 kcal/mol\n",
      "1.0 = -2.35 +- 0.01 kcal/mol\n"
     ]
    }
   ],
   "source": [
    "convert_kcalmol = kT.value_in_unit(simtk_unit.kilocalorie_per_mole)\n",
    "for k, lb in enumerate(lambda_values):\n",
    "    print(f\"{lb} = {DeltaF_ij[0,k]*convert_kcalmol:.2f} +- {dDeltaF_ij[0,k]*convert_kcalmol:.2f} kcal/mol\")"
   ]
  },
  {
   "cell_type": "code",
   "execution_count": 26,
   "id": "db50b1f6",
   "metadata": {
    "scrolled": false
   },
   "outputs": [
    {
     "data": {
      "text/plain": [
       "Text(0, 0.5, 'overlap fraction')"
      ]
     },
     "execution_count": 26,
     "metadata": {},
     "output_type": "execute_result"
    },
    {
     "data": {
      "image/png": "[encoded data removed]",
      "text/plain": [
       "<Figure size 600x400 with 2 Axes>"
      ]
     },
     "metadata": {
      "needs_background": "light"
     },
     "output_type": "display_data"
    }
   ],
   "source": [
    "plt.figure(dpi=100)\n",
    "plt.imshow(ODeltaF_ij, extent=[0, 1, 1, 0])\n",
    "plt.xlabel(r\"$\\lambda$\", fontsize=14)\n",
    "plt.ylabel(r\"$\\lambda$\", fontsize=14)\n",
    "plt.title(\"Overlap Matrix\", fontsize=16)\n",
    "plt.clim(0, 1)\n",
    "cbar = plt.colorbar()\n",
    "cbar.ax.set_ylabel(\"overlap fraction\")"
   ]
  },
  {
   "cell_type": "code",
   "execution_count": null,
   "id": "f05a823e",
   "metadata": {},
   "outputs": [],
   "source": []
  }
 ],
 "metadata": {
  "kernelspec": {
   "display_name": "Python 3 (ipykernel)",
   "language": "python",
   "name": "python3"
  },
  "language_info": {
   "codemirror_mode": {
    "name": "ipython",
    "version": 3
   },
   "file_extension": ".py",
   "mimetype": "text/x-python",
   "name": "python",
   "nbconvert_exporter": "python",
   "pygments_lexer": "ipython3",
   "version": "3.9.7"
  }
 },
 "nbformat": 4,
 "nbformat_minor": 5
}
