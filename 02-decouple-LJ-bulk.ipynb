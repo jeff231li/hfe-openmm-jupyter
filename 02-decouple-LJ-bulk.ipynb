{
 "cells": [
  {
   "cell_type": "code",
   "execution_count": 1,
   "id": "bd540a35",
   "metadata": {},
   "outputs": [],
   "source": [
    "import os\n",
    "import numpy as np\n",
    "import matplotlib.pyplot as plt\n",
    "\n",
    "from pymbar import MBAR, timeseries\n",
    "\n",
    "import simtk.unit as simtk_unit\n",
    "from simtk.openmm.app import (\n",
    "    AmberPrmtopFile,\n",
    "    AmberInpcrdFile,\n",
    "    Simulation,\n",
    "    HBonds,\n",
    "    PME,\n",
    "    DCDReporter,\n",
    "    StateDataReporter,\n",
    "    PDBFile,\n",
    ")\n",
    "from simtk.openmm import (\n",
    "    XmlSerializer,\n",
    "    LangevinIntegrator,\n",
    "    MonteCarloBarostat,\n",
    "    CustomNonbondedForce,\n",
    "    CustomBondForce,\n",
    "    NonbondedForce,\n",
    "    Platform,\n",
    ")"
   ]
  },
  {
   "cell_type": "markdown",
   "id": "acc930c2",
   "metadata": {},
   "source": [
    "### Functions to add `lambda_sterics`"
   ]
  },
  {
   "cell_type": "code",
   "execution_count": 2,
   "id": "c36b2d77",
   "metadata": {},
   "outputs": [],
   "source": [
    "def add_LJ_scaling(\n",
    "    system, molecule, solvent, lambda_value=1.0, force_group_1=6, force_group_2=5\n",
    "):\n",
    "    \"\"\"\n",
    "    * move the Intermolecular LJ to `CustomNonbonded`\n",
    "    * add lambda scaling to intermolecular LJ\n",
    "    * move the Intramolecular LJ to `CustomBondForce`\n",
    "\n",
    "    Parameters\n",
    "    ----------\n",
    "    system: openmm.System\n",
    "        The OpenMM system containing the nonbonded force.\n",
    "    molecule: list\n",
    "        A list of atom indices (starts from 0) for the molecule of interest.\n",
    "    solvent: list\n",
    "        A list of atom indicies (starts from 0) for the solvent molecules.\n",
    "    lambda_value: float\n",
    "        The starting lambda value for the Elec scaling.\n",
    "    force_group_1: int\n",
    "        Force group number for the intermolecular LJ\n",
    "    force_group_2: int\n",
    "        Force group number for the intramolecular LJ\n",
    "    \"\"\"\n",
    "    nonbonded = [\n",
    "        force for force in system.getForces() if isinstance(force, NonbondedForce)\n",
    "    ][0]\n",
    "\n",
    "    # Intermolecular LJ - softcore potential added\n",
    "    intermol_LJ = CustomNonbondedForce(\n",
    "        \"(lambda_sterics^softcore_a)*4*epsilon*x*(x-1.0);\"\n",
    "        \"x=(sigma/reff_sterics)^6;\"\n",
    "        \"reff_sterics=sigma*((softcore_alpha*(1.0-lambda_sterics)^softcore_b+(r/sigma)^softcore_c))^(1/softcore_c);\"\n",
    "        \"sigma=0.5*(sigma1+sigma2);\"\n",
    "        \"epsilon=sqrt(epsilon1*epsilon2);\"\n",
    "    )\n",
    "    intermol_LJ.addGlobalParameter(\"lambda_sterics\", lambda_value)\n",
    "    intermol_LJ.addGlobalParameter(\"softcore_a\", 1)\n",
    "    intermol_LJ.addGlobalParameter(\"softcore_b\", 1)\n",
    "    intermol_LJ.addGlobalParameter(\"softcore_c\", 6)\n",
    "    intermol_LJ.addGlobalParameter(\"softcore_alpha\", 0.5)\n",
    "    intermol_LJ.addPerParticleParameter(\"sigma\")\n",
    "    intermol_LJ.addPerParticleParameter(\"epsilon\")\n",
    "    intermol_LJ.setCutoffDistance(nonbonded.getCutoffDistance())\n",
    "    intermol_LJ.setNonbondedMethod(CustomNonbondedForce.CutoffPeriodic)\n",
    "    intermol_LJ.setUseLongRangeCorrection(nonbonded.getUseDispersionCorrection())\n",
    "    intermol_LJ.addInteractionGroup(molecule, solvent)\n",
    "    intermol_LJ.setForceGroup(force_group_1)\n",
    "\n",
    "    # Add Particles to the `intermol_LJ`\n",
    "    for atom_i in range(nonbonded.getNumParticles()):\n",
    "        charge, sigma, epsilon = nonbonded.getParticleParameters(atom_i)\n",
    "        intermol_LJ.addParticle([sigma, epsilon])\n",
    "\n",
    "    # Copy Exceptions to `intermol_LJ`\n",
    "    for exception_i in range(nonbonded.getNumExceptions()):\n",
    "        atom_i, atom_j, chargeprod, sigma, epsilon = nonbonded.getExceptionParameters(\n",
    "            exception_i\n",
    "        )\n",
    "        intermol_LJ.addExclusion(atom_i, atom_j)\n",
    "\n",
    "    system.addForce(intermol_LJ)\n",
    "\n",
    "    # Intramolecular LJ\n",
    "    intramol_LJ = CustomBondForce(\"4*epsilon*((sigma/r)^12 - (sigma/r)^6);\")\n",
    "    intramol_LJ.addPerBondParameter(\"sigma\")\n",
    "    intramol_LJ.addPerBondParameter(\"epsilon\")\n",
    "    intramol_LJ.setForceGroup(force_group_2)\n",
    "\n",
    "    for exception_i in range(nonbonded.getNumExceptions()):\n",
    "        atom_i, atom_j, charge, sigma, epsilon = nonbonded.getExceptionParameters(\n",
    "            exception_i\n",
    "        )\n",
    "        if atom_i in molecule and atom_j in molecule:\n",
    "            intramol_LJ.addBond(atom_i, atom_j, [sigma, epsilon])\n",
    "\n",
    "    system.addForce(intramol_LJ)"
   ]
  },
  {
   "cell_type": "code",
   "execution_count": 3,
   "id": "72f5eda1",
   "metadata": {},
   "outputs": [],
   "source": [
    "def turn_off_nonbonded(system, molecule):\n",
    "    \"\"\"\n",
    "    * Turn off the LJ parameters in `NonbondedForce` for the molecule\n",
    "\n",
    "    Parameters\n",
    "    ----------\n",
    "    system: openmm.System\n",
    "        The OpenMM system containing the nonbonded force.\n",
    "    molecule: list\n",
    "        A list of atom indices (starts from 0) for the molecule of interest.\n",
    "    \"\"\"\n",
    "    nonbonded = [\n",
    "        force for force in system.getForces() if isinstance(force, NonbondedForce)\n",
    "    ][0]\n",
    "\n",
    "    # Turn off Elec and LJ parameters\n",
    "    for atom_i in molecule:\n",
    "        charge, sigma, epsilon = nonbonded.getParticleParameters(atom_i)\n",
    "        nonbonded.setParticleParameters(atom_i, 0.0, sigma, 0.0)\n",
    "\n",
    "    # Turn off Elec and LJ Exceptions\n",
    "    for exception_i in range(nonbonded.getNumExceptions()):\n",
    "        atom_i, atom_j, charge, sigma, epsilon = nonbonded.getExceptionParameters(\n",
    "            exception_i\n",
    "        )\n",
    "        if atom_i in molecule and atom_j in molecule:\n",
    "            nonbonded.setExceptionParameters(\n",
    "                exception_i, atom_i, atom_j, 0.0, sigma, 0.0\n",
    "            )"
   ]
  },
  {
   "cell_type": "markdown",
   "id": "8569bd03",
   "metadata": {},
   "source": [
    "# Initial Setup"
   ]
  },
  {
   "cell_type": "code",
   "execution_count": 4,
   "id": "e5425af1",
   "metadata": {},
   "outputs": [],
   "source": [
    "build_folder = \"build_files\"\n",
    "work_folder = \"vdw-bulk\"\n",
    "os.makedirs(work_folder, exist_ok=True)"
   ]
  },
  {
   "cell_type": "code",
   "execution_count": 5,
   "id": "02a64b36",
   "metadata": {},
   "outputs": [],
   "source": [
    "platform = Platform.getPlatformByName(\"CUDA\")\n",
    "platform.setPropertyDefaultValue(\"DeviceIndex\", \"0\")\n",
    "platform.setPropertyDefaultValue(\"Precision\", \"mixed\")"
   ]
  },
  {
   "cell_type": "code",
   "execution_count": 6,
   "id": "0bdfe631",
   "metadata": {},
   "outputs": [],
   "source": [
    "prmtop = AmberPrmtopFile(f\"{build_folder}/ethanol_tip3p.prmtop\")\n",
    "inpcrd = AmberInpcrdFile(f\"{build_folder}/ethanol_tip3p.rst7\")"
   ]
  },
  {
   "cell_type": "code",
   "execution_count": 7,
   "id": "9b7626ac",
   "metadata": {},
   "outputs": [],
   "source": [
    "ethanol = [atom.index for atom in prmtop.topology.atoms() if atom.residue.name == \"MOL\"]\n",
    "solvent = [atom.index for atom in prmtop.topology.atoms() if atom.residue.name == \"HOH\"]"
   ]
  },
  {
   "cell_type": "code",
   "execution_count": 8,
   "id": "218d1e72",
   "metadata": {},
   "outputs": [],
   "source": [
    "system = prmtop.createSystem(\n",
    "    nonbondedMethod=PME,\n",
    "    nonbondedCutoff=9.0 * simtk_unit.angstrom,\n",
    "    rigidWater=True,\n",
    "    constraints=HBonds,\n",
    ")"
   ]
  },
  {
   "cell_type": "code",
   "execution_count": 9,
   "id": "6910c0cb",
   "metadata": {},
   "outputs": [],
   "source": [
    "temperature = 298.15 * simtk_unit.kelvin\n",
    "pressure = 1.01325 * simtk_unit.bar\n",
    "friction = 1.0 / simtk_unit.picosecond\n",
    "timestep = 2.0 * simtk_unit.femtosecond\n",
    "kT = temperature * simtk_unit.BOLTZMANN_CONSTANT_kB * simtk_unit.AVOGADRO_CONSTANT_NA"
   ]
  },
  {
   "cell_type": "code",
   "execution_count": 10,
   "id": "ba06d329",
   "metadata": {},
   "outputs": [
    {
     "data": {
      "text/plain": [
       "5"
      ]
     },
     "execution_count": 10,
     "metadata": {},
     "output_type": "execute_result"
    }
   ],
   "source": [
    "barostat = MonteCarloBarostat(pressure, temperature, 100)\n",
    "system.addForce(barostat)"
   ]
  },
  {
   "cell_type": "code",
   "execution_count": 11,
   "id": "e4455fbf",
   "metadata": {},
   "outputs": [],
   "source": [
    "add_LJ_scaling(system, ethanol, solvent, lambda_value=0.0)\n",
    "turn_off_nonbonded(system, ethanol)"
   ]
  },
  {
   "cell_type": "code",
   "execution_count": 12,
   "id": "1ec41c96",
   "metadata": {},
   "outputs": [],
   "source": [
    "with open(f\"{work_folder}/system.xml\", \"w\") as f:\n",
    "    f.write(XmlSerializer.serialize(system))"
   ]
  },
  {
   "cell_type": "markdown",
   "id": "31571551",
   "metadata": {},
   "source": [
    "# MD Simulation"
   ]
  },
  {
   "cell_type": "code",
   "execution_count": 13,
   "id": "4ab1d41d",
   "metadata": {},
   "outputs": [],
   "source": [
    "integrator = LangevinIntegrator(temperature, friction, timestep)\n",
    "\n",
    "simulation = Simulation(\n",
    "    prmtop.topology,\n",
    "    system,\n",
    "    integrator,\n",
    "    platform,\n",
    ")\n",
    "simulation.context.setPositions(inpcrd.positions)"
   ]
  },
  {
   "cell_type": "markdown",
   "id": "644a463e",
   "metadata": {},
   "source": [
    "## 01. Minimization"
   ]
  },
  {
   "cell_type": "code",
   "execution_count": 14,
   "id": "9b18b1a1",
   "metadata": {},
   "outputs": [],
   "source": [
    "simulation.minimizeEnergy(\n",
    "    tolerance=1.0 * simtk_unit.kilojoules_per_mole, maxIterations=5000\n",
    ")"
   ]
  },
  {
   "cell_type": "markdown",
   "id": "3e572466",
   "metadata": {},
   "source": [
    "## 02. Equilibration"
   ]
  },
  {
   "cell_type": "code",
   "execution_count": 15,
   "id": "1e69001b",
   "metadata": {},
   "outputs": [],
   "source": [
    "output_freq = 5000\n",
    "equil_steps = 100000"
   ]
  },
  {
   "cell_type": "code",
   "execution_count": 16,
   "id": "2178d6b0",
   "metadata": {},
   "outputs": [],
   "source": [
    "dcd_reporter = DCDReporter(f\"{work_folder}/equilibration.dcd\", output_freq)\n",
    "state_reporter = StateDataReporter(\n",
    "    f\"{work_folder}/equilibration.log\",\n",
    "    output_freq,\n",
    "    step=True,\n",
    "    kineticEnergy=True,\n",
    "    potentialEnergy=True,\n",
    "    totalEnergy=True,\n",
    "    temperature=True,\n",
    "    volume=True,\n",
    "    speed=True,\n",
    "    separator=\",\",\n",
    ")\n",
    "simulation.reporters.append(dcd_reporter)\n",
    "simulation.reporters.append(state_reporter)"
   ]
  },
  {
   "cell_type": "code",
   "execution_count": 17,
   "id": "efc98260",
   "metadata": {},
   "outputs": [],
   "source": [
    "simulation.step(equil_steps)"
   ]
  },
  {
   "cell_type": "code",
   "execution_count": 18,
   "id": "cdfeaa67",
   "metadata": {},
   "outputs": [],
   "source": [
    "simulation.saveState(f\"{work_folder}/equilibration.xml\")\n",
    "with open(f\"{work_folder}/equilibration.pdb\", \"w\") as f:\n",
    "    PDBFile.writeModel(\n",
    "        prmtop.topology,\n",
    "        simulation.context.getState(getPositions=True).getPositions(),\n",
    "        f,\n",
    "    )"
   ]
  },
  {
   "cell_type": "markdown",
   "id": "28010b9a",
   "metadata": {},
   "source": [
    "## 03. Alchemical Run"
   ]
  },
  {
   "cell_type": "code",
   "execution_count": 19,
   "id": "dced9f52",
   "metadata": {},
   "outputs": [],
   "source": [
    "lambda_values = [0.0, 0.1, 0.2, 0.3, 0.4, 0.5, 0.6, 0.7, 0.8, 0.9, 1.0]\n",
    "n_lambda = len(lambda_values)\n",
    "\n",
    "output_freq = 500\n",
    "equil_steps = 50000\n",
    "prod_steps = 100000\n",
    "\n",
    "total_iterations = int(prod_steps / output_freq)\n",
    "\n",
    "u_kln = np.zeros((n_lambda, n_lambda, total_iterations))"
   ]
  },
  {
   "cell_type": "code",
   "execution_count": 20,
   "id": "8de82334",
   "metadata": {},
   "outputs": [],
   "source": [
    "integrator = LangevinIntegrator(temperature, friction, timestep)\n",
    "\n",
    "simulation = Simulation(\n",
    "    prmtop.topology,\n",
    "    system,\n",
    "    integrator,\n",
    "    platform,\n",
    ")\n",
    "simulation.loadState(f\"{work_folder}/equilibration.xml\")"
   ]
  },
  {
   "cell_type": "code",
   "execution_count": 21,
   "id": "7b39ae10",
   "metadata": {},
   "outputs": [
    {
     "name": "stdout",
     "output_type": "stream",
     "text": [
      "Running simulation for lambda: 0.0 ...\n",
      "Running simulation for lambda: 0.1 ...\n",
      "Running simulation for lambda: 0.2 ...\n",
      "Running simulation for lambda: 0.3 ...\n",
      "Running simulation for lambda: 0.4 ...\n",
      "Running simulation for lambda: 0.5 ...\n",
      "Running simulation for lambda: 0.6 ...\n",
      "Running simulation for lambda: 0.7 ...\n",
      "Running simulation for lambda: 0.8 ...\n",
      "Running simulation for lambda: 0.9 ...\n",
      "Running simulation for lambda: 1.0 ...\n"
     ]
    }
   ],
   "source": [
    "for k, lb1 in enumerate(lambda_values):\n",
    "    print(f\"Running simulation for lambda: {lb1} ...\")\n",
    "\n",
    "    simulation.context.setParameter(\"lambda_sterics\", lb1)\n",
    "\n",
    "    # Short equilibration\n",
    "    simulation.step(equil_steps)\n",
    "\n",
    "    # Add reporters\n",
    "    dcd_reporter = DCDReporter(f\"{work_folder}/production-{k}.dcd\", output_freq)\n",
    "    state_reporter = StateDataReporter(\n",
    "        f\"{work_folder}/production-{k}.log\",\n",
    "        output_freq,\n",
    "        step=True,\n",
    "        kineticEnergy=True,\n",
    "        potentialEnergy=True,\n",
    "        totalEnergy=True,\n",
    "        temperature=True,\n",
    "        volume=True,\n",
    "        speed=True,\n",
    "        separator=\",\",\n",
    "    )\n",
    "    simulation.reporters.append(dcd_reporter)\n",
    "    simulation.reporters.append(state_reporter)\n",
    "\n",
    "    # Run production\n",
    "    for n in range(total_iterations):\n",
    "        simulation.context.setParameter(\"lambda_sterics\", lb1)\n",
    "        simulation.step(output_freq)\n",
    "\n",
    "        for l, lb2 in enumerate(lambda_values):\n",
    "            simulation.context.setParameter(\"lambda_sterics\", lb2)\n",
    "            u_kln[k, l, n] = (\n",
    "                simulation.context.getState(getEnergy=True).getPotentialEnergy() / kT\n",
    "            )\n",
    "\n",
    "    simulation.saveState(f\"{work_folder}/production-{k}.xml\")\n",
    "\n",
    "    simulation.reporters.pop(-1)\n",
    "    simulation.reporters.pop(-1)"
   ]
  },
  {
   "cell_type": "code",
   "execution_count": 22,
   "id": "22d860f9",
   "metadata": {},
   "outputs": [],
   "source": [
    "np.save(f\"{work_folder}/reduced_elec_bulk_potential.npy\", u_kln)"
   ]
  },
  {
   "cell_type": "markdown",
   "id": "f81b66f9",
   "metadata": {},
   "source": [
    "# Analysis"
   ]
  },
  {
   "cell_type": "code",
   "execution_count": 23,
   "id": "5be460c2",
   "metadata": {},
   "outputs": [],
   "source": [
    "# Subsample data to extract uncorrelated equilibrium timeseries\n",
    "N_k = np.zeros([n_lambda], np.int32)\n",
    "\n",
    "for k in range(n_lambda):\n",
    "    [nequil, g, Neff_max] = timeseries.detectEquilibration(u_kln[k, k, :])\n",
    "    indices = timeseries.subsampleCorrelatedData(u_kln[k, k, :], g=g)\n",
    "    N_k[k] = len(indices)\n",
    "    u_kln[k, :, 0 : N_k[k]] = u_kln[k, :, indices].T"
   ]
  },
  {
   "cell_type": "code",
   "execution_count": 24,
   "id": "a7bae4d5",
   "metadata": {},
   "outputs": [],
   "source": [
    "mbar = MBAR(u_kln, N_k)\n",
    "[DeltaF_ij, dDeltaF_ij, Theta_ij] = mbar.getFreeEnergyDifferences(return_theta=True)\n",
    "ODeltaF_ij = mbar.computeOverlap()[\"matrix\"]"
   ]
  },
  {
   "cell_type": "code",
   "execution_count": 25,
   "id": "2220a0e4",
   "metadata": {},
   "outputs": [
    {
     "name": "stdout",
     "output_type": "stream",
     "text": [
      "0.0 = 0.00 +- 0.00 kcal/mol\n",
      "0.1 = 0.24 +- 0.02 kcal/mol\n",
      "0.2 = 1.00 +- 0.05 kcal/mol\n",
      "0.3 = 1.92 +- 0.10 kcal/mol\n",
      "0.4 = 2.51 +- 0.14 kcal/mol\n",
      "0.5 = 2.76 +- 0.16 kcal/mol\n",
      "0.6 = 2.79 +- 0.18 kcal/mol\n",
      "0.7 = 2.65 +- 0.18 kcal/mol\n",
      "0.8 = 2.41 +- 0.19 kcal/mol\n",
      "0.9 = 2.11 +- 0.20 kcal/mol\n",
      "1.0 = 1.78 +- 0.20 kcal/mol\n"
     ]
    }
   ],
   "source": [
    "convert_kcalmol = kT.value_in_unit(simtk_unit.kilocalorie_per_mole)\n",
    "for k, lb in enumerate(lambda_values):\n",
    "    print(\n",
    "        f\"{lb} = {DeltaF_ij[0,k]*convert_kcalmol:.2f} +- {dDeltaF_ij[0,k]*convert_kcalmol:.2f} kcal/mol\"\n",
    "    )"
   ]
  },
  {
   "cell_type": "code",
   "execution_count": 29,
   "id": "bd5dd4aa",
   "metadata": {},
   "outputs": [
    {
     "data": {
      "text/plain": [
       "Text(0, 0.5, 'overlap fraction')"
      ]
     },
     "execution_count": 29,
     "metadata": {},
     "output_type": "execute_result"
    },
    {
     "data": {
      "image/png": "[encoded data removed]",
      "text/plain": [
       "<Figure size 600x400 with 2 Axes>"
      ]
     },
     "metadata": {
      "needs_background": "light"
     },
     "output_type": "display_data"
    }
   ],
   "source": [
    "plt.figure(dpi=100)\n",
    "plt.imshow(ODeltaF_ij, extent=[0, 1, 1, 0])\n",
    "plt.xlabel(r\"$\\lambda$\", fontsize=14)\n",
    "plt.ylabel(r\"$\\lambda$\", fontsize=14)\n",
    "plt.title(\"Overlap Matrix\", fontsize=16)\n",
    "# plt.clim(0,1)\n",
    "cbar = plt.colorbar()\n",
    "cbar.ax.set_ylabel(\"overlap fraction\")"
   ]
  },
  {
   "cell_type": "code",
   "execution_count": null,
   "id": "72dbd856",
   "metadata": {},
   "outputs": [],
   "source": []
  }
 ],
 "metadata": {
  "kernelspec": {
   "display_name": "Python 3 (ipykernel)",
   "language": "python",
   "name": "python3"
  },
  "language_info": {
   "codemirror_mode": {
    "name": "ipython",
    "version": 3
   },
   "file_extension": ".py",
   "mimetype": "text/x-python",
   "name": "python",
   "nbconvert_exporter": "python",
   "pygments_lexer": "ipython3",
   "version": "3.9.7"
  }
 },
 "nbformat": 4,
 "nbformat_minor": 5
}
